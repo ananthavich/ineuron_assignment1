{
  "nbformat": 4,
  "nbformat_minor": 0,
  "metadata": {
    "colab": {
      "name": "assignment.ipynb",
      "provenance": [],
      "collapsed_sections": []
    },
    "kernelspec": {
      "name": "python3",
      "display_name": "Python 3"
    }
  },
  "cells": [
    {
      "cell_type": "code",
      "metadata": {
        "id": "axEnfaQ41TdG",
        "colab_type": "code",
        "outputId": "91bb69fc-d1af-456c-dced-060365827deb",
        "colab": {
          "base_uri": "https://localhost:8080/",
          "height": 54
        }
      },
      "source": [
        "m=[]\n",
        "for i in range(2000,3200):\n",
        "      if i%7 ==0:\n",
        "          if i%5 !=0:\n",
        "              m.append(i)\n",
        "print(m)"
      ],
      "execution_count": 0,
      "outputs": [
        {
          "output_type": "stream",
          "text": [
            "[2002, 2009, 2016, 2023, 2037, 2044, 2051, 2058, 2072, 2079, 2086, 2093, 2107, 2114, 2121, 2128, 2142, 2149, 2156, 2163, 2177, 2184, 2191, 2198, 2212, 2219, 2226, 2233, 2247, 2254, 2261, 2268, 2282, 2289, 2296, 2303, 2317, 2324, 2331, 2338, 2352, 2359, 2366, 2373, 2387, 2394, 2401, 2408, 2422, 2429, 2436, 2443, 2457, 2464, 2471, 2478, 2492, 2499, 2506, 2513, 2527, 2534, 2541, 2548, 2562, 2569, 2576, 2583, 2597, 2604, 2611, 2618, 2632, 2639, 2646, 2653, 2667, 2674, 2681, 2688, 2702, 2709, 2716, 2723, 2737, 2744, 2751, 2758, 2772, 2779, 2786, 2793, 2807, 2814, 2821, 2828, 2842, 2849, 2856, 2863, 2877, 2884, 2891, 2898, 2912, 2919, 2926, 2933, 2947, 2954, 2961, 2968, 2982, 2989, 2996, 3003, 3017, 3024, 3031, 3038, 3052, 3059, 3066, 3073, 3087, 3094, 3101, 3108, 3122, 3129, 3136, 3143, 3157, 3164, 3171, 3178, 3192, 3199]\n"
          ],
          "name": "stdout"
        }
      ]
    },
    {
      "cell_type": "code",
      "metadata": {
        "id": "1ABEJLZaxyxf",
        "colab_type": "code",
        "outputId": "df2c5710-7f7c-477d-f4bd-43541792d216",
        "colab": {
          "base_uri": "https://localhost:8080/",
          "height": 69
        }
      },
      "source": [
        "a=input('Enter first name :')\n",
        "b=input('Enter second name :')\n",
        "print(b[::-1],' ',a[::-1])\n"
      ],
      "execution_count": 0,
      "outputs": [
        {
          "output_type": "stream",
          "text": [
            "Enter first name :Anantha\n",
            "Enter second name :Krishnan\n",
            "nanhsirK   ahtnanA\n"
          ],
          "name": "stdout"
        }
      ]
    },
    {
      "cell_type": "code",
      "metadata": {
        "id": "Dvhu-wLUzPlM",
        "colab_type": "code",
        "outputId": "aad43443-09da-4b3a-eca0-d705d68fb4b2",
        "colab": {
          "base_uri": "https://localhost:8080/",
          "height": 34
        }
      },
      "source": [
        "print('volume of sphere with radius 12 cm is',(4*3.14*12**3)/3,'cm3')"
      ],
      "execution_count": 0,
      "outputs": [
        {
          "output_type": "stream",
          "text": [
            "volume of sphere with radius 12 cm is: 7234.56 cm3\n"
          ],
          "name": "stdout"
        }
      ]
    },
    {
      "cell_type": "code",
      "metadata": {
        "id": "kvXSUhL7H3Og",
        "colab_type": "code",
        "outputId": "930aadc8-def9-494a-f52c-49f3ac0108b2",
        "colab": {
          "base_uri": "https://localhost:8080/",
          "height": 52
        }
      },
      "source": [
        "text=input('Enter numbers separated by coma and press enter when finished :')\n",
        "l=text.split(',')\n",
        "print(l)"
      ],
      "execution_count": 0,
      "outputs": [
        {
          "output_type": "stream",
          "text": [
            "Enter numbers separated by coma and press enter when finished :1,22,33,1212,3434,0\n",
            "['1', '22', '33', '1212', '3434', '0']\n"
          ],
          "name": "stdout"
        }
      ]
    },
    {
      "cell_type": "code",
      "metadata": {
        "id": "RCLClGQiBa0h",
        "colab_type": "code",
        "outputId": "239b9652-e55a-4866-d883-fd7f6ddcf324",
        "colab": {
          "base_uri": "https://localhost:8080/",
          "height": 173
        }
      },
      "source": [
        "m=''\n",
        "for i in range(1,6,1):\n",
        "     for n in range(0,i):\n",
        "          m=m+'*'\n",
        "     print(m)\n",
        "     m=''\n",
        "for i in range(4,0,-1):\n",
        "     for n in range(0,i):\n",
        "          m=m+'*'\n",
        "     print(m)\n",
        "     m=''"
      ],
      "execution_count": 0,
      "outputs": [
        {
          "output_type": "stream",
          "text": [
            "*\n",
            "**\n",
            "***\n",
            "****\n",
            "*****\n",
            "****\n",
            "***\n",
            "**\n",
            "*\n"
          ],
          "name": "stdout"
        }
      ]
    },
    {
      "cell_type": "code",
      "metadata": {
        "id": "N5vY-vxPHJhZ",
        "colab_type": "code",
        "outputId": "faccc9ca-9d13-4e33-f9d3-99bb934e1a1e",
        "colab": {
          "base_uri": "https://localhost:8080/",
          "height": 52
        }
      },
      "source": [
        "t=input('Input word:')\n",
        "print('Output:',t[::-1])"
      ],
      "execution_count": 0,
      "outputs": [
        {
          "output_type": "stream",
          "text": [
            "Input word:aDSDaokaspodck\n",
            "Output: kcdopsakoaDSDa\n"
          ],
          "name": "stdout"
        }
      ]
    },
    {
      "cell_type": "code",
      "metadata": {
        "id": "9olR1kbhHbsu",
        "colab_type": "code",
        "outputId": "61e7a8dc-bdcf-4730-a9cb-3df82d5ad7b8",
        "colab": {
          "base_uri": "https://localhost:8080/",
          "height": 85
        }
      },
      "source": [
        "string1='WE, THE PEOPLE OF INDIA, having solemnly resolved to constitute India into a SOVEREIGN, SOCIALIST, SECULAR, DEMOCRATIC REPUBLIC and to secure to all its citizens'\n",
        "string2=string1.split(' ')\n",
        "string3=''\n",
        "for i in string2:\n",
        "      string3=string3 +' '+i\n",
        "      if i=='INDIA,':\n",
        "         string3+='\\n\\t'\n",
        "      elif i=='SOVEREIGN,':\n",
        "         string3+='!\\n\\t\\t'\n",
        "      elif i=='REPUBLIC':\n",
        "         string3+='\\n\\t\\t '      \n",
        "print(string3)"
      ],
      "execution_count": 21,
      "outputs": [
        {
          "output_type": "stream",
          "text": [
            " WE, THE PEOPLE OF INDIA,\n",
            "\t having solemnly resolved to constitute India into a SOVEREIGN,!\n",
            "\t\t SOCIALIST, SECULAR, DEMOCRATIC REPUBLIC\n",
            "\t\t  and to secure to all its citizens\n"
          ],
          "name": "stdout"
        }
      ]
    }
  ]
}